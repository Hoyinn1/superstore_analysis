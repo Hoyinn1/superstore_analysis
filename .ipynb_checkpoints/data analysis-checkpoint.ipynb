{
 "cells": [
  {
   "cell_type": "markdown",
   "id": "fd5f04c3",
   "metadata": {},
   "source": [
    "# PANDAS"
   ]
  },
  {
   "cell_type": "markdown",
   "id": "b326481e",
   "metadata": {},
   "source": [
    "**Pandas is used for data Exploration, Wrongling and Analysis**"
   ]
  },
  {
   "cell_type": "markdown",
   "id": "979651cd",
   "metadata": {},
   "source": [
    "## MATPLOTLIB"
   ]
  },
  {
   "cell_type": "markdown",
   "id": "907bf6dd",
   "metadata": {},
   "source": [
    "**MatPlotLib is used for Data Visualization**"
   ]
  },
  {
   "cell_type": "markdown",
   "id": "c7863389",
   "metadata": {},
   "source": [
    "**Open source**\n",
    "\n",
    "Module is a file that contains one or more functionalities"
   ]
  },
  {
   "cell_type": "markdown",
   "id": "2d0df9a3",
   "metadata": {},
   "source": [
    "### A column indicates series\n",
    "\n",
    "**2 or more columns is a dataframe**"
   ]
  },
  {
   "cell_type": "code",
   "execution_count": 12,
   "id": "c1a058f3",
   "metadata": {},
   "outputs": [],
   "source": [
    "# How to import pandas\n",
    "import pandas as pd\n",
    "import matplotlib.pyplot as plt\n"
   ]
  },
  {
   "cell_type": "code",
   "execution_count": 13,
   "id": "aa33581c",
   "metadata": {},
   "outputs": [],
   "source": [
    "data = pd.read_excel(\"sample superstore.xlsx\", header=1)"
   ]
  },
  {
   "cell_type": "code",
   "execution_count": null,
   "id": "0d808044",
   "metadata": {},
   "outputs": [],
   "source": [
    "# lOAD DATASETS\n",
    "\"\"\"\n",
    "to read excel files ==> pd.read_excel(\"filename.xlsx\")\n",
    "to read csv files ==> pd.read_csv(\"filename.csv\")\n",
    "to read json files ==> pd.read_json(\"filename.json\")\n",
    "to read pickle files ==> pd.read_pickle(\"filename.pkl\")\n",
    "\n",
    "\"\"\""
   ]
  },
  {
   "cell_type": "code",
   "execution_count": 14,
   "id": "328ec43a",
   "metadata": {},
   "outputs": [
    {
     "ename": "IndentationError",
     "evalue": "unexpected indent (479981382.py, line 2)",
     "output_type": "error",
     "traceback": [
      "\u001b[1;36m  Cell \u001b[1;32mIn[14], line 2\u001b[1;36m\u001b[0m\n\u001b[1;33m    data.head()\u001b[0m\n\u001b[1;37m    ^\u001b[0m\n\u001b[1;31mIndentationError\u001b[0m\u001b[1;31m:\u001b[0m unexpected indent\n"
     ]
    }
   ],
   "source": [
    " # return fIRST ROW\n",
    "  data.head()"
   ]
  },
  {
   "cell_type": "code",
   "execution_count": null,
   "id": "117c2079",
   "metadata": {},
   "outputs": [],
   "source": [
    "# to return random rows\n",
    "data.sample(4)"
   ]
  },
  {
   "cell_type": "code",
   "execution_count": 15,
   "id": "2124acc8",
   "metadata": {},
   "outputs": [
    {
     "data": {
      "text/plain": [
       "(9433, 25)"
      ]
     },
     "execution_count": 15,
     "metadata": {},
     "output_type": "execute_result"
    }
   ],
   "source": [
    "# to check total number of rows and columns\n",
    "data.shape"
   ]
  },
  {
   "cell_type": "code",
   "execution_count": 16,
   "id": "5d6f8730",
   "metadata": {},
   "outputs": [
    {
     "data": {
      "text/plain": [
       "Index(['Unnamed: 0', 'Order ID', 'Order Priority', 'Discount', 'Unit Price',\n",
       "       'Shipping Cost', 'Customer ID', 'Customer Name', 'Ship Mode',\n",
       "       'Customer Segment', 'Product Category', 'Product Sub-Category',\n",
       "       'Product Container', 'Product Name', 'Product Base Margin', 'Region',\n",
       "       'State or Province', 'City', 'Postal Code', 'Order Date', 'Ship Date',\n",
       "       'Shipping Days', 'Profit', 'Quantity ordered new', 'Sales'],\n",
       "      dtype='object')"
      ]
     },
     "execution_count": 16,
     "metadata": {},
     "output_type": "execute_result"
    }
   ],
   "source": [
    "# to return all columns\n",
    "data.columns"
   ]
  },
  {
   "cell_type": "code",
   "execution_count": 17,
   "id": "9204b246",
   "metadata": {},
   "outputs": [
    {
     "data": {
      "text/html": [
       "<div>\n",
       "<style scoped>\n",
       "    .dataframe tbody tr th:only-of-type {\n",
       "        vertical-align: middle;\n",
       "    }\n",
       "\n",
       "    .dataframe tbody tr th {\n",
       "        vertical-align: top;\n",
       "    }\n",
       "\n",
       "    .dataframe thead th {\n",
       "        text-align: right;\n",
       "    }\n",
       "</style>\n",
       "<table border=\"1\" class=\"dataframe\">\n",
       "  <thead>\n",
       "    <tr style=\"text-align: right;\">\n",
       "      <th></th>\n",
       "      <th>Unnamed: 0</th>\n",
       "      <th>Order ID</th>\n",
       "      <th>Discount</th>\n",
       "      <th>Unit Price</th>\n",
       "      <th>Shipping Cost</th>\n",
       "      <th>Customer ID</th>\n",
       "      <th>Product Base Margin</th>\n",
       "      <th>Postal Code</th>\n",
       "      <th>Shipping Days</th>\n",
       "      <th>Profit</th>\n",
       "      <th>Quantity ordered new</th>\n",
       "    </tr>\n",
       "  </thead>\n",
       "  <tbody>\n",
       "    <tr>\n",
       "      <th>count</th>\n",
       "      <td>0.0</td>\n",
       "      <td>9433.000000</td>\n",
       "      <td>9429.000000</td>\n",
       "      <td>9429.000000</td>\n",
       "      <td>9433.000000</td>\n",
       "      <td>9433.000000</td>\n",
       "      <td>9361.000000</td>\n",
       "      <td>9433.000000</td>\n",
       "      <td>9433.000000</td>\n",
       "      <td>9433.000000</td>\n",
       "      <td>9433.000000</td>\n",
       "    </tr>\n",
       "    <tr>\n",
       "      <th>mean</th>\n",
       "      <td>NaN</td>\n",
       "      <td>82322.359589</td>\n",
       "      <td>0.049637</td>\n",
       "      <td>88.374355</td>\n",
       "      <td>12.800261</td>\n",
       "      <td>1739.656737</td>\n",
       "      <td>0.512200</td>\n",
       "      <td>52438.343369</td>\n",
       "      <td>2.028835</td>\n",
       "      <td>139.048171</td>\n",
       "      <td>13.796353</td>\n",
       "    </tr>\n",
       "    <tr>\n",
       "      <th>std</th>\n",
       "      <td>NaN</td>\n",
       "      <td>19142.868581</td>\n",
       "      <td>0.031803</td>\n",
       "      <td>281.537895</td>\n",
       "      <td>17.183799</td>\n",
       "      <td>979.851635</td>\n",
       "      <td>0.135229</td>\n",
       "      <td>29373.373051</td>\n",
       "      <td>2.300988</td>\n",
       "      <td>998.245544</td>\n",
       "      <td>15.103544</td>\n",
       "    </tr>\n",
       "    <tr>\n",
       "      <th>min</th>\n",
       "      <td>NaN</td>\n",
       "      <td>6.000000</td>\n",
       "      <td>0.000000</td>\n",
       "      <td>0.990000</td>\n",
       "      <td>0.490000</td>\n",
       "      <td>2.000000</td>\n",
       "      <td>0.350000</td>\n",
       "      <td>1001.000000</td>\n",
       "      <td>0.000000</td>\n",
       "      <td>-16476.838000</td>\n",
       "      <td>1.000000</td>\n",
       "    </tr>\n",
       "    <tr>\n",
       "      <th>25%</th>\n",
       "      <td>NaN</td>\n",
       "      <td>86738.000000</td>\n",
       "      <td>0.020000</td>\n",
       "      <td>6.480000</td>\n",
       "      <td>3.170000</td>\n",
       "      <td>898.000000</td>\n",
       "      <td>0.380000</td>\n",
       "      <td>29301.000000</td>\n",
       "      <td>1.000000</td>\n",
       "      <td>-74.030000</td>\n",
       "      <td>5.000000</td>\n",
       "    </tr>\n",
       "    <tr>\n",
       "      <th>50%</th>\n",
       "      <td>NaN</td>\n",
       "      <td>88343.000000</td>\n",
       "      <td>0.050000</td>\n",
       "      <td>20.990000</td>\n",
       "      <td>6.050000</td>\n",
       "      <td>1750.000000</td>\n",
       "      <td>0.520000</td>\n",
       "      <td>52302.000000</td>\n",
       "      <td>2.000000</td>\n",
       "      <td>2.596000</td>\n",
       "      <td>10.000000</td>\n",
       "    </tr>\n",
       "    <tr>\n",
       "      <th>75%</th>\n",
       "      <td>NaN</td>\n",
       "      <td>89986.000000</td>\n",
       "      <td>0.080000</td>\n",
       "      <td>85.990000</td>\n",
       "      <td>13.990000</td>\n",
       "      <td>2579.000000</td>\n",
       "      <td>0.590000</td>\n",
       "      <td>78521.000000</td>\n",
       "      <td>2.000000</td>\n",
       "      <td>140.280000</td>\n",
       "      <td>17.000000</td>\n",
       "    </tr>\n",
       "    <tr>\n",
       "      <th>max</th>\n",
       "      <td>NaN</td>\n",
       "      <td>91591.000000</td>\n",
       "      <td>0.250000</td>\n",
       "      <td>6783.020000</td>\n",
       "      <td>164.730000</td>\n",
       "      <td>3403.000000</td>\n",
       "      <td>0.850000</td>\n",
       "      <td>99362.000000</td>\n",
       "      <td>92.000000</td>\n",
       "      <td>16332.414000</td>\n",
       "      <td>170.000000</td>\n",
       "    </tr>\n",
       "  </tbody>\n",
       "</table>\n",
       "</div>"
      ],
      "text/plain": [
       "       Unnamed: 0      Order ID     Discount   Unit Price  Shipping Cost  \\\n",
       "count         0.0   9433.000000  9429.000000  9429.000000    9433.000000   \n",
       "mean          NaN  82322.359589     0.049637    88.374355      12.800261   \n",
       "std           NaN  19142.868581     0.031803   281.537895      17.183799   \n",
       "min           NaN      6.000000     0.000000     0.990000       0.490000   \n",
       "25%           NaN  86738.000000     0.020000     6.480000       3.170000   \n",
       "50%           NaN  88343.000000     0.050000    20.990000       6.050000   \n",
       "75%           NaN  89986.000000     0.080000    85.990000      13.990000   \n",
       "max           NaN  91591.000000     0.250000  6783.020000     164.730000   \n",
       "\n",
       "       Customer ID  Product Base Margin   Postal Code  Shipping Days  \\\n",
       "count  9433.000000          9361.000000   9433.000000    9433.000000   \n",
       "mean   1739.656737             0.512200  52438.343369       2.028835   \n",
       "std     979.851635             0.135229  29373.373051       2.300988   \n",
       "min       2.000000             0.350000   1001.000000       0.000000   \n",
       "25%     898.000000             0.380000  29301.000000       1.000000   \n",
       "50%    1750.000000             0.520000  52302.000000       2.000000   \n",
       "75%    2579.000000             0.590000  78521.000000       2.000000   \n",
       "max    3403.000000             0.850000  99362.000000      92.000000   \n",
       "\n",
       "             Profit  Quantity ordered new  \n",
       "count   9433.000000           9433.000000  \n",
       "mean     139.048171             13.796353  \n",
       "std      998.245544             15.103544  \n",
       "min   -16476.838000              1.000000  \n",
       "25%      -74.030000              5.000000  \n",
       "50%        2.596000             10.000000  \n",
       "75%      140.280000             17.000000  \n",
       "max    16332.414000            170.000000  "
      ]
     },
     "execution_count": 17,
     "metadata": {},
     "output_type": "execute_result"
    }
   ],
   "source": [
    "# to check the data description\n",
    "data.describe()"
   ]
  },
  {
   "cell_type": "code",
   "execution_count": 18,
   "id": "24dc9c5c",
   "metadata": {},
   "outputs": [
    {
     "data": {
      "text/plain": [
       "Unnamed: 0                     float64\n",
       "Order ID                         int64\n",
       "Order Priority                  object\n",
       "Discount                       float64\n",
       "Unit Price                     float64\n",
       "Shipping Cost                  float64\n",
       "Customer ID                      int64\n",
       "Customer Name                   object\n",
       "Ship Mode                       object\n",
       "Customer Segment                object\n",
       "Product Category                object\n",
       "Product Sub-Category            object\n",
       "Product Container               object\n",
       "Product Name                    object\n",
       "Product Base Margin            float64\n",
       "Region                          object\n",
       "State or Province               object\n",
       "City                            object\n",
       "Postal Code                      int64\n",
       "Order Date              datetime64[ns]\n",
       "Ship Date               datetime64[ns]\n",
       "Shipping Days                    int64\n",
       "Profit                         float64\n",
       "Quantity ordered new             int64\n",
       "Sales                           object\n",
       "dtype: object"
      ]
     },
     "execution_count": 18,
     "metadata": {},
     "output_type": "execute_result"
    }
   ],
   "source": [
    "# to check data type of all the columns\n",
    "data.dtypes"
   ]
  },
  {
   "cell_type": "code",
   "execution_count": 19,
   "id": "bcaacb52",
   "metadata": {},
   "outputs": [
    {
     "name": "stdout",
     "output_type": "stream",
     "text": [
      "<class 'pandas.core.frame.DataFrame'>\n",
      "RangeIndex: 9433 entries, 0 to 9432\n",
      "Data columns (total 25 columns):\n",
      " #   Column                Non-Null Count  Dtype         \n",
      "---  ------                --------------  -----         \n",
      " 0   Unnamed: 0            0 non-null      float64       \n",
      " 1   Order ID              9433 non-null   int64         \n",
      " 2   Order Priority        9427 non-null   object        \n",
      " 3   Discount              9429 non-null   float64       \n",
      " 4   Unit Price            9429 non-null   float64       \n",
      " 5   Shipping Cost         9433 non-null   float64       \n",
      " 6   Customer ID           9433 non-null   int64         \n",
      " 7   Customer Name         9433 non-null   object        \n",
      " 8   Ship Mode             9433 non-null   object        \n",
      " 9   Customer Segment      9425 non-null   object        \n",
      " 10  Product Category      9433 non-null   object        \n",
      " 11  Product Sub-Category  9433 non-null   object        \n",
      " 12  Product Container     9433 non-null   object        \n",
      " 13  Product Name          9433 non-null   object        \n",
      " 14  Product Base Margin   9361 non-null   float64       \n",
      " 15  Region                9433 non-null   object        \n",
      " 16  State or Province     9433 non-null   object        \n",
      " 17  City                  9433 non-null   object        \n",
      " 18  Postal Code           9433 non-null   int64         \n",
      " 19  Order Date            9433 non-null   datetime64[ns]\n",
      " 20  Ship Date             9433 non-null   datetime64[ns]\n",
      " 21  Shipping Days         9433 non-null   int64         \n",
      " 22  Profit                9433 non-null   float64       \n",
      " 23  Quantity ordered new  9433 non-null   int64         \n",
      " 24  Sales                 9429 non-null   object        \n",
      "dtypes: datetime64[ns](2), float64(6), int64(5), object(12)\n",
      "memory usage: 1.8+ MB\n"
     ]
    }
   ],
   "source": [
    "# to get more infos\n",
    "data.info()"
   ]
  },
  {
   "cell_type": "code",
   "execution_count": 20,
   "id": "ef1c4d54",
   "metadata": {},
   "outputs": [
    {
     "data": {
      "text/plain": [
       "Unnamed: 0              9433\n",
       "Order ID                   0\n",
       "Order Priority             6\n",
       "Discount                   4\n",
       "Unit Price                 4\n",
       "Shipping Cost              0\n",
       "Customer ID                0\n",
       "Customer Name              0\n",
       "Ship Mode                  0\n",
       "Customer Segment           8\n",
       "Product Category           0\n",
       "Product Sub-Category       0\n",
       "Product Container          0\n",
       "Product Name               0\n",
       "Product Base Margin       72\n",
       "Region                     0\n",
       "State or Province          0\n",
       "City                       0\n",
       "Postal Code                0\n",
       "Order Date                 0\n",
       "Ship Date                  0\n",
       "Shipping Days              0\n",
       "Profit                     0\n",
       "Quantity ordered new       0\n",
       "Sales                      4\n",
       "dtype: int64"
      ]
     },
     "execution_count": 20,
     "metadata": {},
     "output_type": "execute_result"
    }
   ],
   "source": [
    "# check for null values\n",
    "data.isnull().sum()"
   ]
  },
  {
   "cell_type": "code",
   "execution_count": 21,
   "id": "6941abff",
   "metadata": {},
   "outputs": [
    {
     "data": {
      "text/plain": [
       "7"
      ]
     },
     "execution_count": 21,
     "metadata": {},
     "output_type": "execute_result"
    }
   ],
   "source": [
    "# sum of duplicate values\n",
    "data.duplicated().sum()"
   ]
  },
  {
   "cell_type": "code",
   "execution_count": 26,
   "id": "22eb537e",
   "metadata": {},
   "outputs": [
    {
     "data": {
      "text/plain": [
       "0       0.01\n",
       "1       0.01\n",
       "2       0.03\n",
       "3       0.01\n",
       "4       0.00\n",
       "        ... \n",
       "9428    0.06\n",
       "9429    0.00\n",
       "9430    0.08\n",
       "9431    0.10\n",
       "9432    0.09\n",
       "Name: Discount, Length: 9433, dtype: float64"
      ]
     },
     "execution_count": 26,
     "metadata": {},
     "output_type": "execute_result"
    }
   ],
   "source": [
    "# assess discount\n",
    "data.Discount"
   ]
  },
  {
   "cell_type": "code",
   "execution_count": 30,
   "id": "bd46f23f",
   "metadata": {},
   "outputs": [
    {
     "data": {
      "text/plain": [
       "9428    14.72\n",
       "9429     7.49\n",
       "9430    45.70\n",
       "9431    13.99\n",
       "9432     2.50\n",
       "Name: Shipping Cost, dtype: float64"
      ]
     },
     "execution_count": 30,
     "metadata": {},
     "output_type": "execute_result"
    }
   ],
   "source": [
    "data[\"Shipping Cost\"].tail()"
   ]
  },
  {
   "cell_type": "code",
   "execution_count": 39,
   "id": "8b28401f",
   "metadata": {},
   "outputs": [
    {
     "data": {
      "text/plain": [
       "0    2\n",
       "1    1\n",
       "2    1\n",
       "3    1\n",
       "4    0\n",
       "Name: Shipping Days, dtype: int64"
      ]
     },
     "execution_count": 39,
     "metadata": {},
     "output_type": "execute_result"
    }
   ],
   "source": [
    "data[\"Shipping Days\"].head()"
   ]
  },
  {
   "cell_type": "code",
   "execution_count": 45,
   "id": "573cdcd6",
   "metadata": {},
   "outputs": [
    {
     "data": {
      "text/plain": [
       "164.73"
      ]
     },
     "execution_count": 45,
     "metadata": {},
     "output_type": "execute_result"
    }
   ],
   "source": [
    "data[\"Shipping Cost\"].max()"
   ]
  },
  {
   "cell_type": "code",
   "execution_count": 47,
   "id": "cf0cde2e",
   "metadata": {},
   "outputs": [
    {
     "data": {
      "text/plain": [
       "12.800260786600234"
      ]
     },
     "execution_count": 47,
     "metadata": {},
     "output_type": "execute_result"
    }
   ],
   "source": [
    "data[\"Shipping Cost\"].mean()."
   ]
  },
  {
   "cell_type": "code",
   "execution_count": 48,
   "id": "87a1b3bd",
   "metadata": {},
   "outputs": [
    {
     "data": {
      "text/plain": [
       "13.0"
      ]
     },
     "execution_count": 48,
     "metadata": {},
     "output_type": "execute_result"
    }
   ],
   "source": [
    "data[\"Shipping Cost\"].mean().round()"
   ]
  },
  {
   "cell_type": "code",
   "execution_count": 49,
   "id": "3aa7941d",
   "metadata": {},
   "outputs": [
    {
     "data": {
      "text/html": [
       "<div>\n",
       "<style scoped>\n",
       "    .dataframe tbody tr th:only-of-type {\n",
       "        vertical-align: middle;\n",
       "    }\n",
       "\n",
       "    .dataframe tbody tr th {\n",
       "        vertical-align: top;\n",
       "    }\n",
       "\n",
       "    .dataframe thead th {\n",
       "        text-align: right;\n",
       "    }\n",
       "</style>\n",
       "<table border=\"1\" class=\"dataframe\">\n",
       "  <thead>\n",
       "    <tr style=\"text-align: right;\">\n",
       "      <th></th>\n",
       "      <th>Shipping Cost</th>\n",
       "      <th>Customer ID</th>\n",
       "      <th>Unit Price</th>\n",
       "    </tr>\n",
       "  </thead>\n",
       "  <tbody>\n",
       "    <tr>\n",
       "      <th>0</th>\n",
       "      <td>0.50</td>\n",
       "      <td>2</td>\n",
       "      <td>2.88</td>\n",
       "    </tr>\n",
       "    <tr>\n",
       "      <th>1</th>\n",
       "      <td>0.93</td>\n",
       "      <td>3</td>\n",
       "      <td>2.84</td>\n",
       "    </tr>\n",
       "    <tr>\n",
       "      <th>2</th>\n",
       "      <td>6.15</td>\n",
       "      <td>3</td>\n",
       "      <td>6.68</td>\n",
       "    </tr>\n",
       "    <tr>\n",
       "      <th>3</th>\n",
       "      <td>3.60</td>\n",
       "      <td>3</td>\n",
       "      <td>5.68</td>\n",
       "    </tr>\n",
       "    <tr>\n",
       "      <th>4</th>\n",
       "      <td>2.50</td>\n",
       "      <td>3</td>\n",
       "      <td>205.99</td>\n",
       "    </tr>\n",
       "    <tr>\n",
       "      <th>...</th>\n",
       "      <td>...</td>\n",
       "      <td>...</td>\n",
       "      <td>...</td>\n",
       "    </tr>\n",
       "    <tr>\n",
       "      <th>9428</th>\n",
       "      <td>14.72</td>\n",
       "      <td>3402</td>\n",
       "      <td>35.89</td>\n",
       "    </tr>\n",
       "    <tr>\n",
       "      <th>9429</th>\n",
       "      <td>7.49</td>\n",
       "      <td>3402</td>\n",
       "      <td>3.34</td>\n",
       "    </tr>\n",
       "    <tr>\n",
       "      <th>9430</th>\n",
       "      <td>45.70</td>\n",
       "      <td>3402</td>\n",
       "      <td>550.98</td>\n",
       "    </tr>\n",
       "    <tr>\n",
       "      <th>9431</th>\n",
       "      <td>13.99</td>\n",
       "      <td>3403</td>\n",
       "      <td>105.98</td>\n",
       "    </tr>\n",
       "    <tr>\n",
       "      <th>9432</th>\n",
       "      <td>2.50</td>\n",
       "      <td>3403</td>\n",
       "      <td>7.78</td>\n",
       "    </tr>\n",
       "  </tbody>\n",
       "</table>\n",
       "<p>9433 rows × 3 columns</p>\n",
       "</div>"
      ],
      "text/plain": [
       "      Shipping Cost  Customer ID  Unit Price\n",
       "0              0.50            2        2.88\n",
       "1              0.93            3        2.84\n",
       "2              6.15            3        6.68\n",
       "3              3.60            3        5.68\n",
       "4              2.50            3      205.99\n",
       "...             ...          ...         ...\n",
       "9428          14.72         3402       35.89\n",
       "9429           7.49         3402        3.34\n",
       "9430          45.70         3402      550.98\n",
       "9431          13.99         3403      105.98\n",
       "9432           2.50         3403        7.78\n",
       "\n",
       "[9433 rows x 3 columns]"
      ]
     },
     "execution_count": 49,
     "metadata": {},
     "output_type": "execute_result"
    }
   ],
   "source": [
    "data[[\"Shipping Cost\",\"Customer ID\",\"Unit Price\"]]"
   ]
  },
  {
   "cell_type": "code",
   "execution_count": 50,
   "id": "ea10bcdd",
   "metadata": {},
   "outputs": [
    {
     "data": {
      "text/plain": [
       "array(['Regular Air', 'Express Air', 'Delivery Truck'], dtype=object)"
      ]
     },
     "execution_count": 50,
     "metadata": {},
     "output_type": "execute_result"
    }
   ],
   "source": [
    "# return unique method for ship mode\n",
    "data[\"Ship Mode\"].unique()"
   ]
  },
  {
   "cell_type": "code",
   "execution_count": 52,
   "id": "f4f40e81",
   "metadata": {},
   "outputs": [
    {
     "data": {
      "text/plain": [
       "array(['Not Specified', 'High', 'Medium', 'Low', nan, 'Critical',\n",
       "       'Critical '], dtype=object)"
      ]
     },
     "execution_count": 52,
     "metadata": {},
     "output_type": "execute_result"
    }
   ],
   "source": [
    "data[\"Order Priority\"].unique()"
   ]
  },
  {
   "cell_type": "code",
   "execution_count": 53,
   "id": "d4026ab8",
   "metadata": {},
   "outputs": [
    {
     "data": {
      "text/plain": [
       "Regular Air       7039\n",
       "Delivery Truck    1285\n",
       "Express Air       1109\n",
       "Name: Ship Mode, dtype: int64"
      ]
     },
     "execution_count": 53,
     "metadata": {},
     "output_type": "execute_result"
    }
   ],
   "source": [
    "# to get the count of values\n",
    "data[\"Ship Mode\"].value_counts()"
   ]
  },
  {
   "cell_type": "markdown",
   "id": "009c3bc9",
   "metadata": {},
   "source": [
    "# DATA CLEANING"
   ]
  },
  {
   "cell_type": "code",
   "execution_count": 54,
   "id": "b9b3f7c2",
   "metadata": {},
   "outputs": [],
   "source": [
    "# drop duplicate\n",
    "data.drop_duplicates(inplace=True)\n"
   ]
  },
  {
   "cell_type": "code",
   "execution_count": 58,
   "id": "71d3706a",
   "metadata": {},
   "outputs": [
    {
     "data": {
      "text/plain": [
       "0"
      ]
     },
     "execution_count": 58,
     "metadata": {},
     "output_type": "execute_result"
    }
   ],
   "source": [
    "data.duplicated().sum()"
   ]
  },
  {
   "cell_type": "code",
   "execution_count": 66,
   "id": "240eb5f1",
   "metadata": {},
   "outputs": [],
   "source": [
    "# drop null values\n",
    "data.dropna(inplace=True)"
   ]
  },
  {
   "cell_type": "code",
   "execution_count": 67,
   "id": "7a072005",
   "metadata": {},
   "outputs": [
    {
     "data": {
      "text/plain": [
       "Order ID                0\n",
       "Order Priority          0\n",
       "Discount                0\n",
       "Unit Price              0\n",
       "Shipping Cost           0\n",
       "Customer ID             0\n",
       "Customer Name           0\n",
       "Ship Mode               0\n",
       "Customer Segment        0\n",
       "Product Category        0\n",
       "Product Sub-Category    0\n",
       "Product Container       0\n",
       "Product Name            0\n",
       "Product Base Margin     0\n",
       "Region                  0\n",
       "State or Province       0\n",
       "City                    0\n",
       "Postal Code             0\n",
       "Order Date              0\n",
       "Ship Date               0\n",
       "Shipping Days           0\n",
       "Profit                  0\n",
       "Quantity ordered new    0\n",
       "Sales                   0\n",
       "dtype: int64"
      ]
     },
     "execution_count": 67,
     "metadata": {},
     "output_type": "execute_result"
    }
   ],
   "source": [
    "data.isnull().sum()"
   ]
  },
  {
   "cell_type": "code",
   "execution_count": 68,
   "id": "ce9fe878",
   "metadata": {},
   "outputs": [],
   "source": [
    "# to drop colum\n",
    "# data.drop(columns=\"unnamed: 0\", inplace=True)"
   ]
  },
  {
   "cell_type": "code",
   "execution_count": 69,
   "id": "cae8a01b",
   "metadata": {},
   "outputs": [
    {
     "data": {
      "text/html": [
       "<div>\n",
       "<style scoped>\n",
       "    .dataframe tbody tr th:only-of-type {\n",
       "        vertical-align: middle;\n",
       "    }\n",
       "\n",
       "    .dataframe tbody tr th {\n",
       "        vertical-align: top;\n",
       "    }\n",
       "\n",
       "    .dataframe thead th {\n",
       "        text-align: right;\n",
       "    }\n",
       "</style>\n",
       "<table border=\"1\" class=\"dataframe\">\n",
       "  <thead>\n",
       "    <tr style=\"text-align: right;\">\n",
       "      <th></th>\n",
       "      <th>Order ID</th>\n",
       "      <th>Order Priority</th>\n",
       "      <th>Discount</th>\n",
       "      <th>Unit Price</th>\n",
       "      <th>Shipping Cost</th>\n",
       "      <th>Customer ID</th>\n",
       "      <th>Customer Name</th>\n",
       "      <th>Ship Mode</th>\n",
       "      <th>Customer Segment</th>\n",
       "      <th>Product Category</th>\n",
       "      <th>...</th>\n",
       "      <th>Region</th>\n",
       "      <th>State or Province</th>\n",
       "      <th>City</th>\n",
       "      <th>Postal Code</th>\n",
       "      <th>Order Date</th>\n",
       "      <th>Ship Date</th>\n",
       "      <th>Shipping Days</th>\n",
       "      <th>Profit</th>\n",
       "      <th>Quantity ordered new</th>\n",
       "      <th>Sales</th>\n",
       "    </tr>\n",
       "  </thead>\n",
       "  <tbody>\n",
       "    <tr>\n",
       "      <th>0</th>\n",
       "      <td>88525</td>\n",
       "      <td>Not Specified</td>\n",
       "      <td>0.01</td>\n",
       "      <td>2.88</td>\n",
       "      <td>0.50</td>\n",
       "      <td>2</td>\n",
       "      <td>Janice Fletcher</td>\n",
       "      <td>Regular Air</td>\n",
       "      <td>Corporate</td>\n",
       "      <td>Office Supplies</td>\n",
       "      <td>...</td>\n",
       "      <td>Central</td>\n",
       "      <td>Illinois</td>\n",
       "      <td>Addison</td>\n",
       "      <td>60101</td>\n",
       "      <td>2012-05-28</td>\n",
       "      <td>2012-05-30</td>\n",
       "      <td>2</td>\n",
       "      <td>1.320000</td>\n",
       "      <td>2</td>\n",
       "      <td>5.9</td>\n",
       "    </tr>\n",
       "    <tr>\n",
       "      <th>1</th>\n",
       "      <td>88522</td>\n",
       "      <td>High</td>\n",
       "      <td>0.01</td>\n",
       "      <td>2.84</td>\n",
       "      <td>0.93</td>\n",
       "      <td>3</td>\n",
       "      <td>Bonnie Potter</td>\n",
       "      <td>Express Air</td>\n",
       "      <td>Corporate</td>\n",
       "      <td>Office Supplies</td>\n",
       "      <td>...</td>\n",
       "      <td>West</td>\n",
       "      <td>Washington</td>\n",
       "      <td>Anacortes</td>\n",
       "      <td>98221</td>\n",
       "      <td>2010-07-07</td>\n",
       "      <td>2010-07-08</td>\n",
       "      <td>1</td>\n",
       "      <td>4.560000</td>\n",
       "      <td>4</td>\n",
       "      <td>13.01</td>\n",
       "    </tr>\n",
       "    <tr>\n",
       "      <th>2</th>\n",
       "      <td>88523</td>\n",
       "      <td>Not Specified</td>\n",
       "      <td>0.03</td>\n",
       "      <td>6.68</td>\n",
       "      <td>6.15</td>\n",
       "      <td>3</td>\n",
       "      <td>Bonnie Potter</td>\n",
       "      <td>Express Air</td>\n",
       "      <td>Corporate</td>\n",
       "      <td>Office Supplies</td>\n",
       "      <td>...</td>\n",
       "      <td>West</td>\n",
       "      <td>Washington</td>\n",
       "      <td>Anacortes</td>\n",
       "      <td>98221</td>\n",
       "      <td>2011-07-27</td>\n",
       "      <td>2011-07-28</td>\n",
       "      <td>1</td>\n",
       "      <td>-47.640000</td>\n",
       "      <td>7</td>\n",
       "      <td>49.92</td>\n",
       "    </tr>\n",
       "    <tr>\n",
       "      <th>3</th>\n",
       "      <td>88523</td>\n",
       "      <td>Not Specified</td>\n",
       "      <td>0.01</td>\n",
       "      <td>5.68</td>\n",
       "      <td>3.60</td>\n",
       "      <td>3</td>\n",
       "      <td>Bonnie Potter</td>\n",
       "      <td>Regular Air</td>\n",
       "      <td>Corporate</td>\n",
       "      <td>Office Supplies</td>\n",
       "      <td>...</td>\n",
       "      <td>West</td>\n",
       "      <td>Washington</td>\n",
       "      <td>Anacortes</td>\n",
       "      <td>98221</td>\n",
       "      <td>2011-07-27</td>\n",
       "      <td>2011-07-28</td>\n",
       "      <td>1</td>\n",
       "      <td>-30.510000</td>\n",
       "      <td>7</td>\n",
       "      <td>41.64</td>\n",
       "    </tr>\n",
       "    <tr>\n",
       "      <th>4</th>\n",
       "      <td>88523</td>\n",
       "      <td>Not Specified</td>\n",
       "      <td>0.00</td>\n",
       "      <td>205.99</td>\n",
       "      <td>2.50</td>\n",
       "      <td>3</td>\n",
       "      <td>Bonnie Potter</td>\n",
       "      <td>Express Air</td>\n",
       "      <td>Corporate</td>\n",
       "      <td>Technology</td>\n",
       "      <td>...</td>\n",
       "      <td>West</td>\n",
       "      <td>Washington</td>\n",
       "      <td>Anacortes</td>\n",
       "      <td>98221</td>\n",
       "      <td>2011-07-27</td>\n",
       "      <td>2011-07-27</td>\n",
       "      <td>0</td>\n",
       "      <td>998.202300</td>\n",
       "      <td>8</td>\n",
       "      <td>1446.67</td>\n",
       "    </tr>\n",
       "    <tr>\n",
       "      <th>...</th>\n",
       "      <td>...</td>\n",
       "      <td>...</td>\n",
       "      <td>...</td>\n",
       "      <td>...</td>\n",
       "      <td>...</td>\n",
       "      <td>...</td>\n",
       "      <td>...</td>\n",
       "      <td>...</td>\n",
       "      <td>...</td>\n",
       "      <td>...</td>\n",
       "      <td>...</td>\n",
       "      <td>...</td>\n",
       "      <td>...</td>\n",
       "      <td>...</td>\n",
       "      <td>...</td>\n",
       "      <td>...</td>\n",
       "      <td>...</td>\n",
       "      <td>...</td>\n",
       "      <td>...</td>\n",
       "      <td>...</td>\n",
       "      <td>...</td>\n",
       "    </tr>\n",
       "    <tr>\n",
       "      <th>9421</th>\n",
       "      <td>87532</td>\n",
       "      <td>Critical</td>\n",
       "      <td>0.06</td>\n",
       "      <td>35.89</td>\n",
       "      <td>14.72</td>\n",
       "      <td>3402</td>\n",
       "      <td>Frederick Cole</td>\n",
       "      <td>Regular Air</td>\n",
       "      <td>Consumer</td>\n",
       "      <td>Office Supplies</td>\n",
       "      <td>...</td>\n",
       "      <td>East</td>\n",
       "      <td>West Virginia</td>\n",
       "      <td>Charleston</td>\n",
       "      <td>25314</td>\n",
       "      <td>2013-05-14</td>\n",
       "      <td>2013-05-15</td>\n",
       "      <td>1</td>\n",
       "      <td>137.860000</td>\n",
       "      <td>13</td>\n",
       "      <td>447.87</td>\n",
       "    </tr>\n",
       "    <tr>\n",
       "      <th>9422</th>\n",
       "      <td>87532</td>\n",
       "      <td>Critical</td>\n",
       "      <td>0.00</td>\n",
       "      <td>3.34</td>\n",
       "      <td>7.49</td>\n",
       "      <td>3402</td>\n",
       "      <td>Frederick Cole</td>\n",
       "      <td>Regular Air</td>\n",
       "      <td>Consumer</td>\n",
       "      <td>Office Supplies</td>\n",
       "      <td>...</td>\n",
       "      <td>East</td>\n",
       "      <td>West Virginia</td>\n",
       "      <td>Charleston</td>\n",
       "      <td>25314</td>\n",
       "      <td>2013-05-14</td>\n",
       "      <td>2013-05-14</td>\n",
       "      <td>0</td>\n",
       "      <td>-39.070000</td>\n",
       "      <td>3</td>\n",
       "      <td>13.23</td>\n",
       "    </tr>\n",
       "    <tr>\n",
       "      <th>9423</th>\n",
       "      <td>87533</td>\n",
       "      <td>Not Specified</td>\n",
       "      <td>0.08</td>\n",
       "      <td>550.98</td>\n",
       "      <td>45.70</td>\n",
       "      <td>3402</td>\n",
       "      <td>Frederick Cole</td>\n",
       "      <td>Delivery Truck</td>\n",
       "      <td>Consumer</td>\n",
       "      <td>Furniture</td>\n",
       "      <td>...</td>\n",
       "      <td>East</td>\n",
       "      <td>West Virginia</td>\n",
       "      <td>Charleston</td>\n",
       "      <td>25314</td>\n",
       "      <td>2013-09-12</td>\n",
       "      <td>2013-09-14</td>\n",
       "      <td>2</td>\n",
       "      <td>-1225.029097</td>\n",
       "      <td>4</td>\n",
       "      <td>2215.93</td>\n",
       "    </tr>\n",
       "    <tr>\n",
       "      <th>9424</th>\n",
       "      <td>87530</td>\n",
       "      <td>High</td>\n",
       "      <td>0.10</td>\n",
       "      <td>105.98</td>\n",
       "      <td>13.99</td>\n",
       "      <td>3403</td>\n",
       "      <td>Tammy Buckley</td>\n",
       "      <td>Express Air</td>\n",
       "      <td>Consumer</td>\n",
       "      <td>Furniture</td>\n",
       "      <td>...</td>\n",
       "      <td>West</td>\n",
       "      <td>Wyoming</td>\n",
       "      <td>Cheyenne</td>\n",
       "      <td>82001</td>\n",
       "      <td>2010-02-08</td>\n",
       "      <td>2010-02-11</td>\n",
       "      <td>3</td>\n",
       "      <td>349.485000</td>\n",
       "      <td>5</td>\n",
       "      <td>506.5</td>\n",
       "    </tr>\n",
       "    <tr>\n",
       "      <th>9425</th>\n",
       "      <td>87533</td>\n",
       "      <td>Not Specified</td>\n",
       "      <td>0.09</td>\n",
       "      <td>7.78</td>\n",
       "      <td>2.50</td>\n",
       "      <td>3403</td>\n",
       "      <td>Tammy Buckley</td>\n",
       "      <td>Express Air</td>\n",
       "      <td>Consumer</td>\n",
       "      <td>Office Supplies</td>\n",
       "      <td>...</td>\n",
       "      <td>West</td>\n",
       "      <td>Wyoming</td>\n",
       "      <td>Cheyenne</td>\n",
       "      <td>82001</td>\n",
       "      <td>2013-09-12</td>\n",
       "      <td>2013-09-14</td>\n",
       "      <td>2</td>\n",
       "      <td>78.062400</td>\n",
       "      <td>23</td>\n",
       "      <td>172.48</td>\n",
       "    </tr>\n",
       "  </tbody>\n",
       "</table>\n",
       "<p>9330 rows × 24 columns</p>\n",
       "</div>"
      ],
      "text/plain": [
       "      Order ID Order Priority  Discount  Unit Price  Shipping Cost  \\\n",
       "0        88525  Not Specified      0.01        2.88           0.50   \n",
       "1        88522           High      0.01        2.84           0.93   \n",
       "2        88523  Not Specified      0.03        6.68           6.15   \n",
       "3        88523  Not Specified      0.01        5.68           3.60   \n",
       "4        88523  Not Specified      0.00      205.99           2.50   \n",
       "...        ...            ...       ...         ...            ...   \n",
       "9421     87532       Critical      0.06       35.89          14.72   \n",
       "9422     87532       Critical      0.00        3.34           7.49   \n",
       "9423     87533  Not Specified      0.08      550.98          45.70   \n",
       "9424     87530           High      0.10      105.98          13.99   \n",
       "9425     87533  Not Specified      0.09        7.78           2.50   \n",
       "\n",
       "      Customer ID    Customer Name       Ship Mode Customer Segment  \\\n",
       "0               2  Janice Fletcher     Regular Air        Corporate   \n",
       "1               3    Bonnie Potter     Express Air        Corporate   \n",
       "2               3    Bonnie Potter     Express Air        Corporate   \n",
       "3               3    Bonnie Potter     Regular Air        Corporate   \n",
       "4               3    Bonnie Potter     Express Air        Corporate   \n",
       "...           ...              ...             ...              ...   \n",
       "9421         3402   Frederick Cole     Regular Air         Consumer   \n",
       "9422         3402   Frederick Cole     Regular Air         Consumer   \n",
       "9423         3402   Frederick Cole  Delivery Truck         Consumer   \n",
       "9424         3403    Tammy Buckley     Express Air         Consumer   \n",
       "9425         3403    Tammy Buckley     Express Air         Consumer   \n",
       "\n",
       "     Product Category  ...   Region State or Province        City  \\\n",
       "0     Office Supplies  ...  Central          Illinois     Addison   \n",
       "1     Office Supplies  ...     West        Washington   Anacortes   \n",
       "2     Office Supplies  ...     West        Washington   Anacortes   \n",
       "3     Office Supplies  ...     West        Washington   Anacortes   \n",
       "4          Technology  ...     West        Washington   Anacortes   \n",
       "...               ...  ...      ...               ...         ...   \n",
       "9421  Office Supplies  ...     East     West Virginia  Charleston   \n",
       "9422  Office Supplies  ...     East     West Virginia  Charleston   \n",
       "9423        Furniture  ...     East     West Virginia  Charleston   \n",
       "9424        Furniture  ...     West           Wyoming    Cheyenne   \n",
       "9425  Office Supplies  ...     West           Wyoming    Cheyenne   \n",
       "\n",
       "      Postal Code Order Date  Ship Date Shipping Days       Profit  \\\n",
       "0           60101 2012-05-28 2012-05-30             2     1.320000   \n",
       "1           98221 2010-07-07 2010-07-08             1     4.560000   \n",
       "2           98221 2011-07-27 2011-07-28             1   -47.640000   \n",
       "3           98221 2011-07-27 2011-07-28             1   -30.510000   \n",
       "4           98221 2011-07-27 2011-07-27             0   998.202300   \n",
       "...           ...        ...        ...           ...          ...   \n",
       "9421        25314 2013-05-14 2013-05-15             1   137.860000   \n",
       "9422        25314 2013-05-14 2013-05-14             0   -39.070000   \n",
       "9423        25314 2013-09-12 2013-09-14             2 -1225.029097   \n",
       "9424        82001 2010-02-08 2010-02-11             3   349.485000   \n",
       "9425        82001 2013-09-12 2013-09-14             2    78.062400   \n",
       "\n",
       "     Quantity ordered new    Sales  \n",
       "0                       2      5.9  \n",
       "1                       4    13.01  \n",
       "2                       7    49.92  \n",
       "3                       7    41.64  \n",
       "4                       8  1446.67  \n",
       "...                   ...      ...  \n",
       "9421                   13   447.87  \n",
       "9422                    3    13.23  \n",
       "9423                    4  2215.93  \n",
       "9424                    5    506.5  \n",
       "9425                   23   172.48  \n",
       "\n",
       "[9330 rows x 24 columns]"
      ]
     },
     "execution_count": 69,
     "metadata": {},
     "output_type": "execute_result"
    }
   ],
   "source": [
    "# drop all rows containing null values\n",
    "data.dropna(axis=0)"
   ]
  },
  {
   "cell_type": "code",
   "execution_count": 73,
   "id": "a4287d64",
   "metadata": {},
   "outputs": [
    {
     "data": {
      "text/plain": [
       "array(['Not Specified', 'High', 'Medium', 'Low', 'Critical', 'Critical '],\n",
       "      dtype=object)"
      ]
     },
     "execution_count": 73,
     "metadata": {},
     "output_type": "execute_result"
    }
   ],
   "source": [
    "data[\"Order Priority\"].unique()"
   ]
  },
  {
   "cell_type": "code",
   "execution_count": 74,
   "id": "6cd9c647",
   "metadata": {},
   "outputs": [
    {
     "data": {
      "text/plain": [
       "0       Not Specified\n",
       "1                High\n",
       "2       Not Specified\n",
       "3       Not Specified\n",
       "4       Not Specified\n",
       "            ...      \n",
       "9421             High\n",
       "9422             High\n",
       "9423    Not Specified\n",
       "9424             High\n",
       "9425    Not Specified\n",
       "Name: Order Priority, Length: 9330, dtype: object"
      ]
     },
     "execution_count": 74,
     "metadata": {},
     "output_type": "execute_result"
    }
   ],
   "source": [
    "data[\"Order Priority\"].replace(\"Critical\")"
   ]
  },
  {
   "cell_type": "code",
   "execution_count": 75,
   "id": "ef6e50b2",
   "metadata": {},
   "outputs": [
    {
     "data": {
      "text/html": [
       "<div>\n",
       "<style scoped>\n",
       "    .dataframe tbody tr th:only-of-type {\n",
       "        vertical-align: middle;\n",
       "    }\n",
       "\n",
       "    .dataframe tbody tr th {\n",
       "        vertical-align: top;\n",
       "    }\n",
       "\n",
       "    .dataframe thead th {\n",
       "        text-align: right;\n",
       "    }\n",
       "</style>\n",
       "<table border=\"1\" class=\"dataframe\">\n",
       "  <thead>\n",
       "    <tr style=\"text-align: right;\">\n",
       "      <th></th>\n",
       "      <th>Order ID</th>\n",
       "      <th>Order Priority</th>\n",
       "      <th>Discount</th>\n",
       "      <th>Unit Price</th>\n",
       "      <th>Shipping Cost</th>\n",
       "      <th>Customer ID</th>\n",
       "      <th>Customer Name</th>\n",
       "      <th>Ship Mode</th>\n",
       "      <th>Customer Segment</th>\n",
       "      <th>Product Category</th>\n",
       "      <th>...</th>\n",
       "      <th>Region</th>\n",
       "      <th>State or Province</th>\n",
       "      <th>City</th>\n",
       "      <th>Postal Code</th>\n",
       "      <th>Order Date</th>\n",
       "      <th>Ship Date</th>\n",
       "      <th>Shipping Days</th>\n",
       "      <th>Profit</th>\n",
       "      <th>Quantity ordered new</th>\n",
       "      <th>Sales</th>\n",
       "    </tr>\n",
       "  </thead>\n",
       "  <tbody>\n",
       "    <tr>\n",
       "      <th>0</th>\n",
       "      <td>88525</td>\n",
       "      <td>Not Specified</td>\n",
       "      <td>0.01</td>\n",
       "      <td>2.88</td>\n",
       "      <td>0.50</td>\n",
       "      <td>2</td>\n",
       "      <td>Janice Fletcher</td>\n",
       "      <td>Regular Air</td>\n",
       "      <td>Corporate</td>\n",
       "      <td>Office Supplies</td>\n",
       "      <td>...</td>\n",
       "      <td>Central</td>\n",
       "      <td>Illinois</td>\n",
       "      <td>Addison</td>\n",
       "      <td>60101</td>\n",
       "      <td>2012-05-28</td>\n",
       "      <td>2012-05-30</td>\n",
       "      <td>2</td>\n",
       "      <td>1.3200</td>\n",
       "      <td>2</td>\n",
       "      <td>5.9</td>\n",
       "    </tr>\n",
       "    <tr>\n",
       "      <th>1</th>\n",
       "      <td>88522</td>\n",
       "      <td>High</td>\n",
       "      <td>0.01</td>\n",
       "      <td>2.84</td>\n",
       "      <td>0.93</td>\n",
       "      <td>3</td>\n",
       "      <td>Bonnie Potter</td>\n",
       "      <td>Express Air</td>\n",
       "      <td>Corporate</td>\n",
       "      <td>Office Supplies</td>\n",
       "      <td>...</td>\n",
       "      <td>West</td>\n",
       "      <td>Washington</td>\n",
       "      <td>Anacortes</td>\n",
       "      <td>98221</td>\n",
       "      <td>2010-07-07</td>\n",
       "      <td>2010-07-08</td>\n",
       "      <td>1</td>\n",
       "      <td>4.5600</td>\n",
       "      <td>4</td>\n",
       "      <td>13.01</td>\n",
       "    </tr>\n",
       "    <tr>\n",
       "      <th>2</th>\n",
       "      <td>88523</td>\n",
       "      <td>Not Specified</td>\n",
       "      <td>0.03</td>\n",
       "      <td>6.68</td>\n",
       "      <td>6.15</td>\n",
       "      <td>3</td>\n",
       "      <td>Bonnie Potter</td>\n",
       "      <td>Express Air</td>\n",
       "      <td>Corporate</td>\n",
       "      <td>Office Supplies</td>\n",
       "      <td>...</td>\n",
       "      <td>West</td>\n",
       "      <td>Washington</td>\n",
       "      <td>Anacortes</td>\n",
       "      <td>98221</td>\n",
       "      <td>2011-07-27</td>\n",
       "      <td>2011-07-28</td>\n",
       "      <td>1</td>\n",
       "      <td>-47.6400</td>\n",
       "      <td>7</td>\n",
       "      <td>49.92</td>\n",
       "    </tr>\n",
       "    <tr>\n",
       "      <th>3</th>\n",
       "      <td>88523</td>\n",
       "      <td>Not Specified</td>\n",
       "      <td>0.01</td>\n",
       "      <td>5.68</td>\n",
       "      <td>3.60</td>\n",
       "      <td>3</td>\n",
       "      <td>Bonnie Potter</td>\n",
       "      <td>Regular Air</td>\n",
       "      <td>Corporate</td>\n",
       "      <td>Office Supplies</td>\n",
       "      <td>...</td>\n",
       "      <td>West</td>\n",
       "      <td>Washington</td>\n",
       "      <td>Anacortes</td>\n",
       "      <td>98221</td>\n",
       "      <td>2011-07-27</td>\n",
       "      <td>2011-07-28</td>\n",
       "      <td>1</td>\n",
       "      <td>-30.5100</td>\n",
       "      <td>7</td>\n",
       "      <td>41.64</td>\n",
       "    </tr>\n",
       "    <tr>\n",
       "      <th>4</th>\n",
       "      <td>88523</td>\n",
       "      <td>Not Specified</td>\n",
       "      <td>0.00</td>\n",
       "      <td>205.99</td>\n",
       "      <td>2.50</td>\n",
       "      <td>3</td>\n",
       "      <td>Bonnie Potter</td>\n",
       "      <td>Express Air</td>\n",
       "      <td>Corporate</td>\n",
       "      <td>Technology</td>\n",
       "      <td>...</td>\n",
       "      <td>West</td>\n",
       "      <td>Washington</td>\n",
       "      <td>Anacortes</td>\n",
       "      <td>98221</td>\n",
       "      <td>2011-07-27</td>\n",
       "      <td>2011-07-27</td>\n",
       "      <td>0</td>\n",
       "      <td>998.2023</td>\n",
       "      <td>8</td>\n",
       "      <td>1446.67</td>\n",
       "    </tr>\n",
       "  </tbody>\n",
       "</table>\n",
       "<p>5 rows × 24 columns</p>\n",
       "</div>"
      ],
      "text/plain": [
       "   Order ID Order Priority  Discount  Unit Price  Shipping Cost  Customer ID  \\\n",
       "0     88525  Not Specified      0.01        2.88           0.50            2   \n",
       "1     88522           High      0.01        2.84           0.93            3   \n",
       "2     88523  Not Specified      0.03        6.68           6.15            3   \n",
       "3     88523  Not Specified      0.01        5.68           3.60            3   \n",
       "4     88523  Not Specified      0.00      205.99           2.50            3   \n",
       "\n",
       "     Customer Name    Ship Mode Customer Segment Product Category  ...  \\\n",
       "0  Janice Fletcher  Regular Air        Corporate  Office Supplies  ...   \n",
       "1    Bonnie Potter  Express Air        Corporate  Office Supplies  ...   \n",
       "2    Bonnie Potter  Express Air        Corporate  Office Supplies  ...   \n",
       "3    Bonnie Potter  Regular Air        Corporate  Office Supplies  ...   \n",
       "4    Bonnie Potter  Express Air        Corporate       Technology  ...   \n",
       "\n",
       "    Region State or Province       City  Postal Code Order Date  Ship Date  \\\n",
       "0  Central          Illinois    Addison        60101 2012-05-28 2012-05-30   \n",
       "1     West        Washington  Anacortes        98221 2010-07-07 2010-07-08   \n",
       "2     West        Washington  Anacortes        98221 2011-07-27 2011-07-28   \n",
       "3     West        Washington  Anacortes        98221 2011-07-27 2011-07-28   \n",
       "4     West        Washington  Anacortes        98221 2011-07-27 2011-07-27   \n",
       "\n",
       "  Shipping Days    Profit Quantity ordered new    Sales  \n",
       "0             2    1.3200                    2      5.9  \n",
       "1             1    4.5600                    4    13.01  \n",
       "2             1  -47.6400                    7    49.92  \n",
       "3             1  -30.5100                    7    41.64  \n",
       "4             0  998.2023                    8  1446.67  \n",
       "\n",
       "[5 rows x 24 columns]"
      ]
     },
     "execution_count": 75,
     "metadata": {},
     "output_type": "execute_result"
    }
   ],
   "source": [
    "data.head()"
   ]
  },
  {
   "cell_type": "code",
   "execution_count": null,
   "id": "97a1499f",
   "metadata": {},
   "outputs": [],
   "source": [
    "# check for null columns to delete null columns before deleting null values.\n",
    " "
   ]
  }
 ],
 "metadata": {
  "kernelspec": {
   "display_name": "Python 3 (ipykernel)",
   "language": "python",
   "name": "python3"
  },
  "language_info": {
   "codemirror_mode": {
    "name": "ipython",
    "version": 3
   },
   "file_extension": ".py",
   "mimetype": "text/x-python",
   "name": "python",
   "nbconvert_exporter": "python",
   "pygments_lexer": "ipython3",
   "version": "3.11.4"
  }
 },
 "nbformat": 4,
 "nbformat_minor": 5
}
