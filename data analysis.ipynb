{
 "cells": [
  {
   "cell_type": "markdown",
   "id": "fd5f04c3",
   "metadata": {},
   "source": [
    "# PANDAS"
   ]
  },
  {
   "cell_type": "markdown",
   "id": "b326481e",
   "metadata": {},
   "source": [
    "**Pandas is used for data Exploration, Wrongling and Analysis**"
   ]
  },
  {
   "cell_type": "markdown",
   "id": "979651cd",
   "metadata": {},
   "source": [
    "## MATPLOTLIB"
   ]
  },
  {
   "cell_type": "markdown",
   "id": "907bf6dd",
   "metadata": {},
   "source": [
    "**MatPlotLib is used for Data Visualization**"
   ]
  },
  {
   "cell_type": "markdown",
   "id": "c7863389",
   "metadata": {},
   "source": [
    "**Open source**\n",
    "\n",
    "Module is a file that contains one or more functionalities"
   ]
  },
  {
   "cell_type": "markdown",
   "id": "2d0df9a3",
   "metadata": {},
   "source": [
    "### A column indicates series\n",
    "\n",
    "**2 or more columns is a dataframe**"
   ]
  },
  {
   "cell_type": "code",
   "execution_count": 1,
   "id": "c1a058f3",
   "metadata": {},
   "outputs": [],
   "source": [
    "# How to import pandas\n",
    "import pandas as pd\n",
    "import matplotlib.pyplot as plt\n"
   ]
  },
  {
   "cell_type": "code",
   "execution_count": 2,
   "id": "aa33581c",
   "metadata": {},
   "outputs": [],
   "source": [
    "data = pd.read_excel(\"sample superstore.xlsx\", header=1)"
   ]
  },
  {
   "cell_type": "code",
   "execution_count": 3,
   "id": "0d808044",
   "metadata": {},
   "outputs": [
    {
     "data": {
      "text/plain": [
       "'\\nto read excel files ==> pd.read_excel(\"filename.xlsx\")\\nto read csv files ==> pd.read_csv(\"filename.csv\")\\nto read json files ==> pd.read_json(\"filename.json\")\\nto read pickle files ==> pd.read_pickle(\"filename.pkl\")\\n\\n'"
      ]
     },
     "execution_count": 3,
     "metadata": {},
     "output_type": "execute_result"
    }
   ],
   "source": [
    "# lOAD DATASETS\n",
    "\"\"\"\n",
    "to read excel files ==> pd.read_excel(\"filename.xlsx\")\n",
    "to read csv files ==> pd.read_csv(\"filename.csv\")\n",
    "to read json files ==> pd.read_json(\"filename.json\")\n",
    "to read pickle files ==> pd.read_pickle(\"filename.pkl\")\n",
    "\n",
    "\"\"\""
   ]
  },
  {
   "cell_type": "code",
   "execution_count": 4,
   "id": "328ec43a",
   "metadata": {},
   "outputs": [
    {
     "ename": "IndentationError",
     "evalue": "unexpected indent (4240430328.py, line 2)",
     "output_type": "error",
     "traceback": [
      "\u001b[1;36m  Cell \u001b[1;32mIn[4], line 2\u001b[1;36m\u001b[0m\n\u001b[1;33m    data.head()\u001b[0m\n\u001b[1;37m    ^\u001b[0m\n\u001b[1;31mIndentationError\u001b[0m\u001b[1;31m:\u001b[0m unexpected indent\n"
     ]
    }
   ],
   "source": [
    " # return fIRST ROW\n",
    "data.head()"
   ]
  },
  {
   "cell_type": "code",
   "execution_count": null,
   "id": "117c2079",
   "metadata": {},
   "outputs": [],
   "source": [
    "# to return random rows\n",
    "data.sample(4)"
   ]
  },
  {
   "cell_type": "code",
   "execution_count": null,
   "id": "2124acc8",
   "metadata": {},
   "outputs": [],
   "source": [
    "# to check total number of rows and columns\n",
    "data.shape"
   ]
  },
  {
   "cell_type": "code",
   "execution_count": null,
   "id": "5d6f8730",
   "metadata": {},
   "outputs": [],
   "source": [
    "# to return all columns\n",
    "data.columns"
   ]
  },
  {
   "cell_type": "code",
   "execution_count": null,
   "id": "9204b246",
   "metadata": {},
   "outputs": [],
   "source": [
    "# to check the data description\n",
    "data.describe()"
   ]
  },
  {
   "cell_type": "code",
   "execution_count": null,
   "id": "24dc9c5c",
   "metadata": {},
   "outputs": [],
   "source": [
    "# to check data type of all the columns\n",
    "data.dtypes"
   ]
  },
  {
   "cell_type": "code",
   "execution_count": null,
   "id": "bcaacb52",
   "metadata": {},
   "outputs": [],
   "source": [
    "# to get more infos\n",
    "data.info()"
   ]
  },
  {
   "cell_type": "code",
   "execution_count": null,
   "id": "ef1c4d54",
   "metadata": {},
   "outputs": [],
   "source": [
    "# check for null values\n",
    "data.isnull().sum()"
   ]
  },
  {
   "cell_type": "code",
   "execution_count": null,
   "id": "6941abff",
   "metadata": {},
   "outputs": [],
   "source": [
    "# sum of duplicate values\n",
    "data.duplicated().sum()"
   ]
  },
  {
   "cell_type": "code",
   "execution_count": null,
   "id": "22eb537e",
   "metadata": {},
   "outputs": [],
   "source": [
    "# assess discount\n",
    "data.Discount"
   ]
  },
  {
   "cell_type": "code",
   "execution_count": null,
   "id": "bd46f23f",
   "metadata": {},
   "outputs": [],
   "source": [
    "data[\"Shipping Cost\"].tail()"
   ]
  },
  {
   "cell_type": "code",
   "execution_count": null,
   "id": "8b28401f",
   "metadata": {},
   "outputs": [],
   "source": [
    "data[\"Shipping Days\"].head()"
   ]
  },
  {
   "cell_type": "code",
   "execution_count": null,
   "id": "573cdcd6",
   "metadata": {},
   "outputs": [],
   "source": [
    "data[\"Shipping Cost\"].max()"
   ]
  },
  {
   "cell_type": "code",
   "execution_count": null,
   "id": "cf0cde2e",
   "metadata": {},
   "outputs": [],
   "source": [
    "data[\"Shipping Cost\"].mean()."
   ]
  },
  {
   "cell_type": "code",
   "execution_count": null,
   "id": "87a1b3bd",
   "metadata": {},
   "outputs": [],
   "source": [
    "data[\"Shipping Cost\"].mean().round()"
   ]
  },
  {
   "cell_type": "code",
   "execution_count": null,
   "id": "3aa7941d",
   "metadata": {},
   "outputs": [],
   "source": [
    "data[[\"Shipping Cost\",\"Customer ID\",\"Unit Price\"]]"
   ]
  },
  {
   "cell_type": "code",
   "execution_count": null,
   "id": "ea10bcdd",
   "metadata": {},
   "outputs": [],
   "source": [
    "# return unique method for ship mode\n",
    "data[\"Ship Mode\"].unique()"
   ]
  },
  {
   "cell_type": "code",
   "execution_count": null,
   "id": "f4f40e81",
   "metadata": {},
   "outputs": [],
   "source": [
    "data[\"Order Priority\"].unique()"
   ]
  },
  {
   "cell_type": "code",
   "execution_count": null,
   "id": "d4026ab8",
   "metadata": {},
   "outputs": [],
   "source": [
    "# to get the count of values\n",
    "data[\"Ship Mode\"].value_counts()"
   ]
  },
  {
   "cell_type": "markdown",
   "id": "009c3bc9",
   "metadata": {},
   "source": [
    "# DATA CLEANING"
   ]
  },
  {
   "cell_type": "code",
   "execution_count": null,
   "id": "b9b3f7c2",
   "metadata": {},
   "outputs": [],
   "source": [
    "# drop duplicate\n",
    "data.drop_duplicates(inplace=True)\n"
   ]
  },
  {
   "cell_type": "code",
   "execution_count": null,
   "id": "71d3706a",
   "metadata": {},
   "outputs": [],
   "source": [
    "data.duplicated().sum()"
   ]
  },
  {
   "cell_type": "code",
   "execution_count": null,
   "id": "240eb5f1",
   "metadata": {},
   "outputs": [],
   "source": [
    "# drop null values\n",
    "data.dropna(inplace=True)"
   ]
  },
  {
   "cell_type": "code",
   "execution_count": null,
   "id": "7a072005",
   "metadata": {},
   "outputs": [],
   "source": [
    "data.isnull().sum()"
   ]
  },
  {
   "cell_type": "code",
   "execution_count": null,
   "id": "ce9fe878",
   "metadata": {},
   "outputs": [],
   "source": [
    "# to drop colum\n",
    "# data.drop(columns=\"unnamed: 0\", inplace=True)"
   ]
  },
  {
   "cell_type": "code",
   "execution_count": null,
   "id": "cae8a01b",
   "metadata": {},
   "outputs": [],
   "source": [
    "# drop all rows containing null values\n",
    "data.dropna(axis=0)"
   ]
  },
  {
   "cell_type": "code",
   "execution_count": null,
   "id": "a4287d64",
   "metadata": {},
   "outputs": [],
   "source": [
    "data[\"Order Priority\"].unique()"
   ]
  },
  {
   "cell_type": "code",
   "execution_count": 7,
   "id": "6cd9c647",
   "metadata": {},
   "outputs": [],
   "source": [
    "# how to replace values\n",
    "data[\"Order Priority\"] = data[\"Order Priority\"].replace('Critical ','Critical')"
   ]
  },
  {
   "cell_type": "code",
   "execution_count": 11,
   "id": "e71411b5",
   "metadata": {},
   "outputs": [
    {
     "data": {
      "text/plain": [
       "array(['Not Specified', 'High', 'Medium', 'Low', nan, 'Critical'],\n",
       "      dtype=object)"
      ]
     },
     "execution_count": 11,
     "metadata": {},
     "output_type": "execute_result"
    }
   ],
   "source": [
    "data[\"Order Priority\"].unique()"
   ]
  },
  {
   "cell_type": "code",
   "execution_count": 5,
   "id": "ef6e50b2",
   "metadata": {},
   "outputs": [
    {
     "data": {
      "text/html": [
       "<div>\n",
       "<style scoped>\n",
       "    .dataframe tbody tr th:only-of-type {\n",
       "        vertical-align: middle;\n",
       "    }\n",
       "\n",
       "    .dataframe tbody tr th {\n",
       "        vertical-align: top;\n",
       "    }\n",
       "\n",
       "    .dataframe thead th {\n",
       "        text-align: right;\n",
       "    }\n",
       "</style>\n",
       "<table border=\"1\" class=\"dataframe\">\n",
       "  <thead>\n",
       "    <tr style=\"text-align: right;\">\n",
       "      <th></th>\n",
       "      <th>Unnamed: 0</th>\n",
       "      <th>Order ID</th>\n",
       "      <th>Order Priority</th>\n",
       "      <th>Discount</th>\n",
       "      <th>Unit Price</th>\n",
       "      <th>Shipping Cost</th>\n",
       "      <th>Customer ID</th>\n",
       "      <th>Customer Name</th>\n",
       "      <th>Ship Mode</th>\n",
       "      <th>Customer Segment</th>\n",
       "      <th>...</th>\n",
       "      <th>Region</th>\n",
       "      <th>State or Province</th>\n",
       "      <th>City</th>\n",
       "      <th>Postal Code</th>\n",
       "      <th>Order Date</th>\n",
       "      <th>Ship Date</th>\n",
       "      <th>Shipping Days</th>\n",
       "      <th>Profit</th>\n",
       "      <th>Quantity ordered new</th>\n",
       "      <th>Sales</th>\n",
       "    </tr>\n",
       "  </thead>\n",
       "  <tbody>\n",
       "    <tr>\n",
       "      <th>0</th>\n",
       "      <td>NaN</td>\n",
       "      <td>88525</td>\n",
       "      <td>Not Specified</td>\n",
       "      <td>0.01</td>\n",
       "      <td>2.88</td>\n",
       "      <td>0.50</td>\n",
       "      <td>2</td>\n",
       "      <td>Janice Fletcher</td>\n",
       "      <td>Regular Air</td>\n",
       "      <td>Corporate</td>\n",
       "      <td>...</td>\n",
       "      <td>Central</td>\n",
       "      <td>Illinois</td>\n",
       "      <td>Addison</td>\n",
       "      <td>60101</td>\n",
       "      <td>2012-05-28</td>\n",
       "      <td>2012-05-30</td>\n",
       "      <td>2</td>\n",
       "      <td>1.3200</td>\n",
       "      <td>2</td>\n",
       "      <td>5.9</td>\n",
       "    </tr>\n",
       "    <tr>\n",
       "      <th>1</th>\n",
       "      <td>NaN</td>\n",
       "      <td>88522</td>\n",
       "      <td>High</td>\n",
       "      <td>0.01</td>\n",
       "      <td>2.84</td>\n",
       "      <td>0.93</td>\n",
       "      <td>3</td>\n",
       "      <td>Bonnie Potter</td>\n",
       "      <td>Express Air</td>\n",
       "      <td>Corporate</td>\n",
       "      <td>...</td>\n",
       "      <td>West</td>\n",
       "      <td>Washington</td>\n",
       "      <td>Anacortes</td>\n",
       "      <td>98221</td>\n",
       "      <td>2010-07-07</td>\n",
       "      <td>2010-07-08</td>\n",
       "      <td>1</td>\n",
       "      <td>4.5600</td>\n",
       "      <td>4</td>\n",
       "      <td>13.01</td>\n",
       "    </tr>\n",
       "    <tr>\n",
       "      <th>2</th>\n",
       "      <td>NaN</td>\n",
       "      <td>88523</td>\n",
       "      <td>Not Specified</td>\n",
       "      <td>0.03</td>\n",
       "      <td>6.68</td>\n",
       "      <td>6.15</td>\n",
       "      <td>3</td>\n",
       "      <td>Bonnie Potter</td>\n",
       "      <td>Express Air</td>\n",
       "      <td>Corporate</td>\n",
       "      <td>...</td>\n",
       "      <td>West</td>\n",
       "      <td>Washington</td>\n",
       "      <td>Anacortes</td>\n",
       "      <td>98221</td>\n",
       "      <td>2011-07-27</td>\n",
       "      <td>2011-07-28</td>\n",
       "      <td>1</td>\n",
       "      <td>-47.6400</td>\n",
       "      <td>7</td>\n",
       "      <td>49.92</td>\n",
       "    </tr>\n",
       "    <tr>\n",
       "      <th>3</th>\n",
       "      <td>NaN</td>\n",
       "      <td>88523</td>\n",
       "      <td>Not Specified</td>\n",
       "      <td>0.01</td>\n",
       "      <td>5.68</td>\n",
       "      <td>3.60</td>\n",
       "      <td>3</td>\n",
       "      <td>Bonnie Potter</td>\n",
       "      <td>Regular Air</td>\n",
       "      <td>Corporate</td>\n",
       "      <td>...</td>\n",
       "      <td>West</td>\n",
       "      <td>Washington</td>\n",
       "      <td>Anacortes</td>\n",
       "      <td>98221</td>\n",
       "      <td>2011-07-27</td>\n",
       "      <td>2011-07-28</td>\n",
       "      <td>1</td>\n",
       "      <td>-30.5100</td>\n",
       "      <td>7</td>\n",
       "      <td>41.64</td>\n",
       "    </tr>\n",
       "    <tr>\n",
       "      <th>4</th>\n",
       "      <td>NaN</td>\n",
       "      <td>88523</td>\n",
       "      <td>Not Specified</td>\n",
       "      <td>0.00</td>\n",
       "      <td>205.99</td>\n",
       "      <td>2.50</td>\n",
       "      <td>3</td>\n",
       "      <td>Bonnie Potter</td>\n",
       "      <td>Express Air</td>\n",
       "      <td>Corporate</td>\n",
       "      <td>...</td>\n",
       "      <td>West</td>\n",
       "      <td>Washington</td>\n",
       "      <td>Anacortes</td>\n",
       "      <td>98221</td>\n",
       "      <td>2011-07-27</td>\n",
       "      <td>2011-07-27</td>\n",
       "      <td>0</td>\n",
       "      <td>998.2023</td>\n",
       "      <td>8</td>\n",
       "      <td>1446.67</td>\n",
       "    </tr>\n",
       "  </tbody>\n",
       "</table>\n",
       "<p>5 rows × 25 columns</p>\n",
       "</div>"
      ],
      "text/plain": [
       "   Unnamed: 0  Order ID Order Priority  Discount  Unit Price  Shipping Cost  \\\n",
       "0         NaN     88525  Not Specified      0.01        2.88           0.50   \n",
       "1         NaN     88522           High      0.01        2.84           0.93   \n",
       "2         NaN     88523  Not Specified      0.03        6.68           6.15   \n",
       "3         NaN     88523  Not Specified      0.01        5.68           3.60   \n",
       "4         NaN     88523  Not Specified      0.00      205.99           2.50   \n",
       "\n",
       "   Customer ID    Customer Name    Ship Mode Customer Segment  ...   Region  \\\n",
       "0            2  Janice Fletcher  Regular Air        Corporate  ...  Central   \n",
       "1            3    Bonnie Potter  Express Air        Corporate  ...     West   \n",
       "2            3    Bonnie Potter  Express Air        Corporate  ...     West   \n",
       "3            3    Bonnie Potter  Regular Air        Corporate  ...     West   \n",
       "4            3    Bonnie Potter  Express Air        Corporate  ...     West   \n",
       "\n",
       "  State or Province       City Postal Code  Order Date  Ship Date  \\\n",
       "0          Illinois    Addison       60101  2012-05-28 2012-05-30   \n",
       "1        Washington  Anacortes       98221  2010-07-07 2010-07-08   \n",
       "2        Washington  Anacortes       98221  2011-07-27 2011-07-28   \n",
       "3        Washington  Anacortes       98221  2011-07-27 2011-07-28   \n",
       "4        Washington  Anacortes       98221  2011-07-27 2011-07-27   \n",
       "\n",
       "  Shipping Days    Profit  Quantity ordered new    Sales  \n",
       "0             2    1.3200                     2      5.9  \n",
       "1             1    4.5600                     4    13.01  \n",
       "2             1  -47.6400                     7    49.92  \n",
       "3             1  -30.5100                     7    41.64  \n",
       "4             0  998.2023                     8  1446.67  \n",
       "\n",
       "[5 rows x 25 columns]"
      ]
     },
     "execution_count": 5,
     "metadata": {},
     "output_type": "execute_result"
    }
   ],
   "source": [
    "data.head()"
   ]
  },
  {
   "cell_type": "code",
   "execution_count": 12,
   "id": "901207ad",
   "metadata": {},
   "outputs": [],
   "source": [
    "# change the sales data type to float\n",
    "data[\"Sales\"] = data[\"Sales\"].astype(float)"
   ]
  },
  {
   "cell_type": "code",
   "execution_count": null,
   "id": "97a1499f",
   "metadata": {},
   "outputs": [],
   "source": [
    "# check for null columns to delete null columns before deleting null values.\n",
    " "
   ]
  },
  {
   "cell_type": "code",
   "execution_count": 13,
   "id": "16baa609",
   "metadata": {},
   "outputs": [
    {
     "name": "stdout",
     "output_type": "stream",
     "text": [
      "<class 'pandas.core.frame.DataFrame'>\n",
      "RangeIndex: 9433 entries, 0 to 9432\n",
      "Data columns (total 25 columns):\n",
      " #   Column                Non-Null Count  Dtype         \n",
      "---  ------                --------------  -----         \n",
      " 0   Unnamed: 0            0 non-null      float64       \n",
      " 1   Order ID              9433 non-null   int64         \n",
      " 2   Order Priority        9427 non-null   object        \n",
      " 3   Discount              9429 non-null   float64       \n",
      " 4   Unit Price            9429 non-null   float64       \n",
      " 5   Shipping Cost         9433 non-null   float64       \n",
      " 6   Customer ID           9433 non-null   int64         \n",
      " 7   Customer Name         9433 non-null   object        \n",
      " 8   Ship Mode             9433 non-null   object        \n",
      " 9   Customer Segment      9425 non-null   object        \n",
      " 10  Product Category      9433 non-null   object        \n",
      " 11  Product Sub-Category  9433 non-null   object        \n",
      " 12  Product Container     9433 non-null   object        \n",
      " 13  Product Name          9433 non-null   object        \n",
      " 14  Product Base Margin   9361 non-null   float64       \n",
      " 15  Region                9433 non-null   object        \n",
      " 16  State or Province     9433 non-null   object        \n",
      " 17  City                  9433 non-null   object        \n",
      " 18  Postal Code           9433 non-null   int64         \n",
      " 19  Order Date            9433 non-null   datetime64[ns]\n",
      " 20  Ship Date             9433 non-null   datetime64[ns]\n",
      " 21  Shipping Days         9433 non-null   int64         \n",
      " 22  Profit                9433 non-null   float64       \n",
      " 23  Quantity ordered new  9433 non-null   int64         \n",
      " 24  Sales                 9428 non-null   float64       \n",
      "dtypes: datetime64[ns](2), float64(7), int64(5), object(11)\n",
      "memory usage: 1.8+ MB\n"
     ]
    }
   ],
   "source": [
    "data.info()"
   ]
  },
  {
   "cell_type": "code",
   "execution_count": 17,
   "id": "a154efff",
   "metadata": {},
   "outputs": [],
   "source": [
    "# total sales by order priority\n",
    "salesBypriority = data.groupby(\"Order Priority\")[\"Sales\"].sum()"
   ]
  },
  {
   "cell_type": "code",
   "execution_count": 18,
   "id": "b0ff0915",
   "metadata": {},
   "outputs": [
    {
     "data": {
      "text/plain": [
       "Order Priority\n",
       "Critical         1668502.24\n",
       "High             2005410.37\n",
       "Low              1901306.90\n",
       "Medium           1610960.82\n",
       "Not Specified    1762147.10\n",
       "Name: Sales, dtype: float64"
      ]
     },
     "execution_count": 18,
     "metadata": {},
     "output_type": "execute_result"
    }
   ],
   "source": [
    "salesBypriority"
   ]
  },
  {
   "cell_type": "code",
   "execution_count": 27,
   "id": "82bc6071",
   "metadata": {},
   "outputs": [],
   "source": [
    "averageship = data.groupby(\"Ship Mode\")[\"Profit\"].mean()"
   ]
  },
  {
   "cell_type": "code",
   "execution_count": 28,
   "id": "638331e6",
   "metadata": {},
   "outputs": [
    {
     "data": {
      "text/plain": [
       "Ship Mode\n",
       "Delivery Truck    207.255322\n",
       "Express Air       136.344375\n",
       "Regular Air       127.022645\n",
       "Name: Profit, dtype: float64"
      ]
     },
     "execution_count": 28,
     "metadata": {},
     "output_type": "execute_result"
    }
   ],
   "source": [
    "averageship"
   ]
  },
  {
   "cell_type": "code",
   "execution_count": 31,
   "id": "16bc5b52",
   "metadata": {},
   "outputs": [
    {
     "data": {
      "text/plain": [
       "Region   Customer Segment\n",
       "Central  Consumer             843.933006\n",
       "         Corporate            872.304084\n",
       "         Home Office          946.941562\n",
       "         Small Business       812.489556\n",
       "East     Consumer            1039.510471\n",
       "         Corporate           1126.862906\n",
       "         Home Office          975.591561\n",
       "         Small Business      1062.133144\n",
       "South    Consumer             761.617483\n",
       "         Corporate            823.561286\n",
       "         Home Office          848.925825\n",
       "         Small Business       830.220092\n",
       "West     Consumer            1210.060196\n",
       "         Corporate           1102.366715\n",
       "         Home Office          965.781817\n",
       "         Small Business       880.365618\n",
       "Name: Sales, dtype: float64"
      ]
     },
     "execution_count": 31,
     "metadata": {},
     "output_type": "execute_result"
    }
   ],
   "source": [
    "# Average Sales By Region And Customer segment\n",
    "AverageSalesByRegion_Seg = data.groupby([\"Region\",\"Customer Segment\"])[\"Sales\"].mean()\n",
    "AverageSalesByRegion_Seg"
   ]
  },
  {
   "cell_type": "markdown",
   "id": "4f0c9354",
   "metadata": {},
   "source": [
    "# DATA VISUALIZATION "
   ]
  },
  {
   "cell_type": "code",
   "execution_count": 57,
   "id": "342b5c04",
   "metadata": {},
   "outputs": [
    {
     "data": {
      "image/png": "[encoded data removed]",
      "text/plain": [
       "<Figure size 800x400 with 1 Axes>"
      ]
     },
     "metadata": {},
     "output_type": "display_data"
    }
   ],
   "source": [
    "# SCATTER PLOT\n",
    "# change Size\n",
    "plt.figure(figsize=(8,4))\n",
    "\n",
    "#Tittle\n",
    "plt.title(\"A scatter plot showing the relationship trend between Sales and Profits\", fontsize=13,color=\"Green\")\n",
    "\n",
    "# x title\n",
    "plt.xlabel(\"Profits\")\n",
    "\n",
    "# y title\n",
    "plt.ylabel(\"Sales\")\n",
    "\n",
    "# scatter plot\n",
    "plt.ylabel(\"Sales\")\n",
    "\n",
    "# scatter plot\n",
    "plt.scatter(data[\"Profit\"],data[\"Sales\"],color=\"green\")\n",
    "\n",
    "# to save visual\n",
    "plt.savefig(\"Scatter Plot\")\n",
    "# plt.legend()"
   ]
  },
  {
   "cell_type": "code",
   "execution_count": 40,
   "id": "bf533641",
   "metadata": {},
   "outputs": [
    {
     "data": {
      "text/plain": [
       "Ship Mode\n",
       "Delivery Truck    207.255322\n",
       "Express Air       136.344375\n",
       "Regular Air       127.022645\n",
       "Name: Profit, dtype: float64"
      ]
     },
     "execution_count": 40,
     "metadata": {},
     "output_type": "execute_result"
    }
   ],
   "source": [
    "averageship"
   ]
  },
  {
   "cell_type": "code",
   "execution_count": 60,
   "id": "f069cfe4",
   "metadata": {},
   "outputs": [
    {
     "data": {
      "image/png": "[encoded data removed]",
      "text/plain": [
       "<Figure size 640x480 with 1 Axes>"
      ]
     },
     "metadata": {},
     "output_type": "display_data"
    }
   ],
   "source": [
    "# title\n",
    "plt.title(\"A pie chart shoeing the % of Profits by Ship Mode\", color=\"green\")\n",
    "\n",
    "plt.pie(averageship, labels=averageship.index, autopct =\"%.2f%%\")\n",
    "plt.savefig(\"Pie Chart\");"
   ]
  },
  {
   "cell_type": "code",
   "execution_count": 46,
   "id": "ef4f40f9",
   "metadata": {},
   "outputs": [
    {
     "data": {
      "text/plain": [
       "array([1668502.24, 2005410.37, 1901306.9 , 1610960.82, 1762147.1 ])"
      ]
     },
     "execution_count": 46,
     "metadata": {},
     "output_type": "execute_result"
    }
   ],
   "source": [
    "salesBypriority.values"
   ]
  },
  {
   "cell_type": "code",
   "execution_count": 56,
   "id": "b39634c6",
   "metadata": {},
   "outputs": [
    {
     "data": {
      "image/png": "[encoded data removed]",
      "text/plain": [
       "<Figure size 800x400 with 1 Axes>"
      ]
     },
     "metadata": {},
     "output_type": "display_data"
    }
   ],
   "source": [
    "# figure size\n",
    "plt.figure(figsize=(8,4))\n",
    "\n",
    "# Title\n",
    "plt.title(\"Order Priority By Sales\",color=\"green\")\n",
    "           \n",
    "#x axis\n",
    "plt.xlabel(\"order priority\")\n",
    "\n",
    "#y Axis\n",
    "plt.ylabel(\"Sales\")\n",
    "# bar chart\n",
    "plt.bar(salesBypriority.index, salesBypriority.values, color=\"green\")\n",
    "plt.savefig(\"salesBypriority\");"
   ]
  },
  {
   "cell_type": "code",
   "execution_count": 61,
   "id": "215e98df",
   "metadata": {},
   "outputs": [],
   "source": [
    "data.to_excel(\"cleaned data.xlsx\")"
   ]
  },
  {
   "cell_type": "code",
   "execution_count": 63,
   "id": "0ff0c1b2",
   "metadata": {},
   "outputs": [],
   "source": [
    "salesBypriority.to_excel(\"sales priority.xlsx\")"
   ]
  },
  {
   "cell_type": "code",
   "execution_count": null,
   "id": "0a459b50",
   "metadata": {},
   "outputs": [],
   "source": []
  }
 ],
 "metadata": {
  "kernelspec": {
   "display_name": "Python 3 (ipykernel)",
   "language": "python",
   "name": "python3"
  },
  "language_info": {
   "codemirror_mode": {
    "name": "ipython",
    "version": 3
   },
   "file_extension": ".py",
   "mimetype": "text/x-python",
   "name": "python",
   "nbconvert_exporter": "python",
   "pygments_lexer": "ipython3",
   "version": "3.11.4"
  }
 },
 "nbformat": 4,
 "nbformat_minor": 5
}
